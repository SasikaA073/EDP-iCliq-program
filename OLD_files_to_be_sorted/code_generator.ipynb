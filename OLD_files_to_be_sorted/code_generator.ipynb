{
 "cells": [
  {
   "cell_type": "code",
   "execution_count": 18,
   "metadata": {},
   "outputs": [],
   "source": [
    "import pyperclip"
   ]
  },
  {
   "cell_type": "code",
   "execution_count": 22,
   "metadata": {},
   "outputs": [],
   "source": [
    "def generate_animate_function(animation_name, gif_frames_array_name, animation_frame_name, num_frames_in_gif):\n",
    "    frame_string = \"\"\n",
    "    for i in range(1, num_frames_in_gif+1):\n",
    "        frame_string += f\"{animation_frame_name}_{i}, \"\n",
    "\n",
    "    frame_string = frame_string[:-2]\n",
    "    frame_string += \"\\n};\"\n",
    "    # print(frame_string + \"\\n\\n\")\n",
    "\n",
    "    num_frames_in_gif = str(num_frames_in_gif)\n",
    "    s1 = f\" // A function to keep one loop of {animation_name} the GIF going \"\n",
    "    s1 += f\"\\nvoid animate_{animation_name}()\" + \"{\"\n",
    "\n",
    "    s1 += f\"\\nconst unsigned char *{gif_frames_array_name}[{num_frames_in_gif}] = \" + \"{\"\n",
    "    s1 += f\"\\n// NOTE : Here ios_loading_ must be replaced by the identifer you gave above in the image to bitmap conversion step.\"\n",
    "\n",
    "    s1 += f\"\\n{frame_string}\"\n",
    "\n",
    "    s1 += f\"\\nfor(int i = 0; i < {num_frames_in_gif}; i++)\" + \"{\"\n",
    "    s1 += f\"\\ndisplay.clearDisplay();\"\n",
    "    s1 += f\"\\ndisplay.drawBitmap(0, 0, {gif_frames_array_name}[i], 128, 64, 1);\"\n",
    "    s1 += f\"\\ndisplay.display();\"\n",
    "    s1 += f\"\\ndelay(10);\" + \"\\n}\"\n",
    "    s1 += \"\\n}\"\n",
    "\n",
    "    # Copy the code to the clipboard\n",
    "    pyperclip.copy(s1)\n",
    "\n",
    "    print(s1)\n",
    "    # return s1\n"
   ]
  },
  {
   "cell_type": "code",
   "execution_count": 20,
   "metadata": {},
   "outputs": [
    {
     "name": "stdout",
     "output_type": "stream",
     "text": [
      " // A function to keep one loop of android_loading the GIF going \n",
      "void animate_android_loading(){\n",
      "const unsigned char *android_loading_frames[60] = {\n",
      "// NOTE : Here ios_loading_ must be replaced by the identifer you gave above in the image to bitmap conversion step.\n",
      "android_loading_1, android_loading_2, android_loading_3, android_loading_4, android_loading_5, android_loading_6, android_loading_7, android_loading_8, android_loading_9, android_loading_10, android_loading_11, android_loading_12, android_loading_13, android_loading_14, android_loading_15, android_loading_16, android_loading_17, android_loading_18, android_loading_19, android_loading_20, android_loading_21, android_loading_22, android_loading_23, android_loading_24, android_loading_25, android_loading_26, android_loading_27, android_loading_28, android_loading_29, android_loading_30, android_loading_31, android_loading_32, android_loading_33, android_loading_34, android_loading_35, android_loading_36, android_loading_37, android_loading_38, android_loading_39, android_loading_40, android_loading_41, android_loading_42, android_loading_43, android_loading_44, android_loading_45, android_loading_46, android_loading_47, android_loading_48, android_loading_49, android_loading_50, android_loading_51, android_loading_52, android_loading_53, android_loading_54, android_loading_55, android_loading_56, android_loading_57, android_loading_58, android_loading_59, android_loading_60\n",
      "};\n",
      "for(int i = 0; i < ; i++){\n",
      "display.clearDisplay();\n",
      "display.drawBitmap(0, 0, android_loading_frames[i], 128, 64, 1);\n",
      "display.display();\n",
      "delay(10);\n",
      "}\n"
     ]
    }
   ],
   "source": [
    "generate_animate_function(\"android_loading\", \"android_loading_frames\", \"android_loading\", 60)"
   ]
  },
  {
   "cell_type": "code",
   "execution_count": 23,
   "metadata": {},
   "outputs": [
    {
     "name": "stdout",
     "output_type": "stream",
     "text": [
      " // A function to keep one loop of hexagon_loading the GIF going \n",
      "void animate_hexagon_loading(){\n",
      "const unsigned char *hexagon_loading_frames[100] = {\n",
      "// NOTE : Here ios_loading_ must be replaced by the identifer you gave above in the image to bitmap conversion step.\n",
      "hexagon_loading_1, hexagon_loading_2, hexagon_loading_3, hexagon_loading_4, hexagon_loading_5, hexagon_loading_6, hexagon_loading_7, hexagon_loading_8, hexagon_loading_9, hexagon_loading_10, hexagon_loading_11, hexagon_loading_12, hexagon_loading_13, hexagon_loading_14, hexagon_loading_15, hexagon_loading_16, hexagon_loading_17, hexagon_loading_18, hexagon_loading_19, hexagon_loading_20, hexagon_loading_21, hexagon_loading_22, hexagon_loading_23, hexagon_loading_24, hexagon_loading_25, hexagon_loading_26, hexagon_loading_27, hexagon_loading_28, hexagon_loading_29, hexagon_loading_30, hexagon_loading_31, hexagon_loading_32, hexagon_loading_33, hexagon_loading_34, hexagon_loading_35, hexagon_loading_36, hexagon_loading_37, hexagon_loading_38, hexagon_loading_39, hexagon_loading_40, hexagon_loading_41, hexagon_loading_42, hexagon_loading_43, hexagon_loading_44, hexagon_loading_45, hexagon_loading_46, hexagon_loading_47, hexagon_loading_48, hexagon_loading_49, hexagon_loading_50, hexagon_loading_51, hexagon_loading_52, hexagon_loading_53, hexagon_loading_54, hexagon_loading_55, hexagon_loading_56, hexagon_loading_57, hexagon_loading_58, hexagon_loading_59, hexagon_loading_60, hexagon_loading_61, hexagon_loading_62, hexagon_loading_63, hexagon_loading_64, hexagon_loading_65, hexagon_loading_66, hexagon_loading_67, hexagon_loading_68, hexagon_loading_69, hexagon_loading_70, hexagon_loading_71, hexagon_loading_72, hexagon_loading_73, hexagon_loading_74, hexagon_loading_75, hexagon_loading_76, hexagon_loading_77, hexagon_loading_78, hexagon_loading_79, hexagon_loading_80, hexagon_loading_81, hexagon_loading_82, hexagon_loading_83, hexagon_loading_84, hexagon_loading_85, hexagon_loading_86, hexagon_loading_87, hexagon_loading_88, hexagon_loading_89, hexagon_loading_90, hexagon_loading_91, hexagon_loading_92, hexagon_loading_93, hexagon_loading_94, hexagon_loading_95, hexagon_loading_96, hexagon_loading_97, hexagon_loading_98, hexagon_loading_99, hexagon_loading_100\n",
      "};\n",
      "for(int i = 0; i < 100; i++){\n",
      "display.clearDisplay();\n",
      "display.drawBitmap(0, 0, hexagon_loading_frames[i], 128, 64, 1);\n",
      "display.display();\n",
      "delay(10);\n",
      "}\n"
     ]
    }
   ],
   "source": [
    "generate_animate_function(\"hexagon_loading\", \"hexagon_loading_frames\", \"hexagon_loading\", 100)"
   ]
  }
 ],
 "metadata": {
  "kernelspec": {
   "display_name": "Python 3",
   "language": "python",
   "name": "python3"
  },
  "language_info": {
   "codemirror_mode": {
    "name": "ipython",
    "version": 3
   },
   "file_extension": ".py",
   "mimetype": "text/x-python",
   "name": "python",
   "nbconvert_exporter": "python",
   "pygments_lexer": "ipython3",
   "version": "3.10.7"
  },
  "orig_nbformat": 4,
  "vscode": {
   "interpreter": {
    "hash": "ad5481173928e125f3fdb4f3311da346b2650b40328f2fe78d4d2fd439336ee1"
   }
  }
 },
 "nbformat": 4,
 "nbformat_minor": 2
}
