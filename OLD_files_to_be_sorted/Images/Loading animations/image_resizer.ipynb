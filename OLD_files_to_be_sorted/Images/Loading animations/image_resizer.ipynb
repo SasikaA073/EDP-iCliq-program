{
 "cells": [
  {
   "cell_type": "code",
   "execution_count": 1,
   "metadata": {},
   "outputs": [],
   "source": [
    "from PIL import Image\n",
    "import os"
   ]
  },
  {
   "cell_type": "code",
   "execution_count": 2,
   "metadata": {},
   "outputs": [],
   "source": [
    "\n",
    "def resize_images(directory, width, height):\n",
    "    for filename in os.listdir(directory):\n",
    "        if filename.endswith(\".jpg\"):\n",
    "            file_path = os.path.join(directory, filename)\n",
    "            try:\n",
    "                image = Image.open(file_path)\n",
    "                resized_image = image.resize((width, height), Image.ANTIALIAS)\n",
    "                resized_image.save(file_path)\n",
    "                print(f\"Resized {filename} to {width}px x {height}px.\")\n",
    "            except Exception as e:\n",
    "                print(f\"Failed to resize {filename}: {e}\")\n"
   ]
  },
  {
   "cell_type": "code",
   "execution_count": 3,
   "metadata": {},
   "outputs": [
    {
     "name": "stdout",
     "output_type": "stream",
     "text": [
      "Resized 1-battery.jpg to 128px x 64px.\n",
      "Resized 2-battery.jpg to 128px x 64px.\n",
      "Resized 3-battery.jpg to 128px x 64px.\n",
      "Resized 4-battery.jpg to 128px x 64px.\n",
      "Resized battery_all.jpg to 128px x 64px.\n",
      "Resized battery_all_inverted.jpg to 128px x 64px.\n",
      "Resized battery_charging.jpg to 128px x 64px.\n"
     ]
    },
    {
     "name": "stderr",
     "output_type": "stream",
     "text": [
      "D:\\System\\TEMP\\ipykernel_15540\\1737743364.py:7: DeprecationWarning: ANTIALIAS is deprecated and will be removed in Pillow 10 (2023-07-01). Use Resampling.LANCZOS instead.\n",
      "  resized_image = image.resize((width, height), Image.ANTIALIAS)\n"
     ]
    }
   ],
   "source": [
    "\n",
    "# Set the target directory containing the .jpg files\n",
    "target_directory = \"Battery\"\n",
    "\n",
    "# Set the desired width and height for resizing\n",
    "target_width = 128\n",
    "target_height = 64\n",
    "\n",
    "resize_images(target_directory, target_width, target_height)"
   ]
  }
 ],
 "metadata": {
  "kernelspec": {
   "display_name": "Python 3",
   "language": "python",
   "name": "python3"
  },
  "language_info": {
   "codemirror_mode": {
    "name": "ipython",
    "version": 3
   },
   "file_extension": ".py",
   "mimetype": "text/x-python",
   "name": "python",
   "nbconvert_exporter": "python",
   "pygments_lexer": "ipython3",
   "version": "3.10.7"
  },
  "orig_nbformat": 4,
  "vscode": {
   "interpreter": {
    "hash": "ad5481173928e125f3fdb4f3311da346b2650b40328f2fe78d4d2fd439336ee1"
   }
  }
 },
 "nbformat": 4,
 "nbformat_minor": 2
}
